{
 "cells": [
  {
   "cell_type": "code",
   "execution_count": 1,
   "metadata": {},
   "outputs": [],
   "source": [
    "import pandas as pd\n",
    "import re"
   ]
  },
  {
   "cell_type": "markdown",
   "metadata": {},
   "source": [
    "This notebook contains the part of the approach that deals with the filtering of the meetings betweeen those relevant for climate change and those that aren't. The original lists of meetings are in the <code>Input</code> and the output of the analysis is in the <code>Ouptut</code> folder. "
   ]
  },
  {
   "cell_type": "markdown",
   "metadata": {},
   "source": [
    "## 1. Algorithm and keywords"
   ]
  },
  {
   "cell_type": "markdown",
   "metadata": {},
   "source": [
    "Here the core of the solution that does the filtering is presented."
   ]
  },
  {
   "cell_type": "code",
   "execution_count": 2,
   "metadata": {},
   "outputs": [],
   "source": [
    "\n",
    "def word_find_exact_match(line: str,words: list) -> list:\n",
    "    \"\"\"Finds the given words that are present in a string.\n",
    "\n",
    "    This function searches the given line and finds the given words that are present\n",
    "    in the line. The matches of the words in the lines must be exact. The words\n",
    "    that are present in the line are returned\n",
    "\n",
    "    Parameters\n",
    "    ----------\n",
    "    line : str\n",
    "        The line to be analyzed\n",
    "    words: list\n",
    "        A list of the words to be searched in the line\n",
    "\n",
    "    Returns\n",
    "    ------\n",
    "    list\n",
    "        A list of the words found in the line\n",
    "    \"\"\"\n",
    "\n",
    "    found = [] # will contain the words present in line\n",
    "    \n",
    "    # search each word in the line\n",
    "    for to_be_searched in words:\n",
    "        # if there is an exact match\n",
    "        if re.search(r'\\b' + to_be_searched + r'\\b', line): \n",
    "            found.append(to_be_searched) # save the word that is present in line\n",
    "\n",
    "    return found"
   ]
  },
  {
   "cell_type": "code",
   "execution_count": 3,
   "metadata": {},
   "outputs": [],
   "source": [
    "# algorithm that gets all the keywords present in the text (and returns them)\n",
    "def get_keywords_present(interest_string: str, keywords: list) -> tuple([bool, list]):\n",
    "    \"\"\"Finds all the keywords that are present\n",
    "\n",
    "    This function runs the finding of the words in the given line (by turning this string in lowercases)\n",
    "    and then determines whether in this line there were words that matched or not. It returns a tuple: the first\n",
    "    combination is True with the keywords found if there were at least one keyword found; the second is False with an empty\n",
    "    list if there was no match found.\n",
    "\n",
    "    Parameters\n",
    "    ----------\n",
    "    interest_string : str\n",
    "        The line to be analyzed\n",
    "    keywords: list\n",
    "        A list of the words to be searched in the line\n",
    "\n",
    "    Returns\n",
    "    ------\n",
    "    tuple([bool, list])\n",
    "        Two outputs:\n",
    "            * (True, keywords present) if some of the keywords were identified in the line\n",
    "            * (False, empty list) if none of the keywords were found in the line\n",
    "\n",
    "    \"\"\"\n",
    "\n",
    "    # run the search of the keywords in the line\n",
    "    keywords_present = word_find_exact_match(interest_string.lower(), keywords)\n",
    "\n",
    "    # creates a boolean to say if there is a match or not\n",
    "    are_keywords_present = not len(keywords_present) == 0\n",
    "    \n",
    "    # returns the boolean created and the results of the keyword search\n",
    "    return are_keywords_present, keywords_present"
   ]
  },
  {
   "cell_type": "markdown",
   "metadata": {},
   "source": [
    "Here I present how to load the keywords for the filtering that are present in the <code>lobbying_climate_keywords.xlsx</code> file and turn them in a list that can be used by the above functions. In this file, each row contains a keyword in the <code>Original keywords</code> column and its synonsyms, related words, different spellings, etc. of that keyword in the <code>synonyms/related</code> column. The final list of keywords will contain the keywords in their lowercase form."
   ]
  },
  {
   "cell_type": "code",
   "execution_count": 4,
   "metadata": {},
   "outputs": [
    {
     "data": {
      "text/html": [
       "<div>\n",
       "<style scoped>\n",
       "    .dataframe tbody tr th:only-of-type {\n",
       "        vertical-align: middle;\n",
       "    }\n",
       "\n",
       "    .dataframe tbody tr th {\n",
       "        vertical-align: top;\n",
       "    }\n",
       "\n",
       "    .dataframe thead th {\n",
       "        text-align: right;\n",
       "    }\n",
       "</style>\n",
       "<table border=\"1\" class=\"dataframe\">\n",
       "  <thead>\n",
       "    <tr style=\"text-align: right;\">\n",
       "      <th></th>\n",
       "      <th>Original keywords</th>\n",
       "      <th>synonyms/related</th>\n",
       "    </tr>\n",
       "  </thead>\n",
       "  <tbody>\n",
       "    <tr>\n",
       "      <th>0</th>\n",
       "      <td>climate change</td>\n",
       "      <td></td>\n",
       "    </tr>\n",
       "    <tr>\n",
       "      <th>1</th>\n",
       "      <td>global warming</td>\n",
       "      <td></td>\n",
       "    </tr>\n",
       "  </tbody>\n",
       "</table>\n",
       "</div>"
      ],
      "text/plain": [
       "  Original keywords synonyms/related\n",
       "0    climate change                 \n",
       "1    global warming                 "
      ]
     },
     "execution_count": 4,
     "metadata": {},
     "output_type": "execute_result"
    }
   ],
   "source": [
    "# load the file\n",
    "keywords_db = pd.read_excel(\"lobbying_climate_keywords.xlsx\", sheet_name=\"final list\", engine=\"openpyxl\")\n",
    "\n",
    "# remove empty columns\n",
    "keywords_db = keywords_db[['Original keywords', \"synonyms/related\"]]\n",
    "\n",
    "# Put an empty string in the empty cells\n",
    "keywords_db = keywords_db.fillna(\"\")\n",
    "\n",
    "keywords_db.head(2)"
   ]
  },
  {
   "cell_type": "code",
   "execution_count": 5,
   "metadata": {},
   "outputs": [
    {
     "data": {
      "text/plain": [
       "['climate change',\n",
       " 'global warming',\n",
       " 'greenhouse',\n",
       " 'ghg',\n",
       " 'ghgs',\n",
       " 'greenhouse gases',\n",
       " 'keystone',\n",
       " 'renewable energy',\n",
       " 'renewables',\n",
       " 'renewable energies']"
      ]
     },
     "execution_count": 5,
     "metadata": {},
     "output_type": "execute_result"
    }
   ],
   "source": [
    "# This cell cotnains that code that creats a list that will contain all the keywords on python\n",
    "\n",
    "keywords = [] # will contain all the keywords\n",
    "\n",
    "for i in keywords_db.index:\n",
    "    # get the keywords on the first column\n",
    "    keywords.append(keywords_db.iloc[i]['Original keywords'])\n",
    "\n",
    "    # adds all the synonsyms, etc. to the list of keywords\n",
    "    if not keywords_db.iloc[i]['synonyms/related'] == \"\":\n",
    "        keywords.extend([x.strip() for x in keywords_db.iloc[i]['synonyms/related'].split(',')])\n",
    "\n",
    "# transform all the keywords in lowercase\n",
    "for i in range(len(keywords)):\n",
    "    keywords[i] = keywords[i].lower()\n",
    "\n",
    "keywords[0:10]"
   ]
  },
  {
   "cell_type": "markdown",
   "metadata": {},
   "source": [
    "## 2. Run analysis on meetings"
   ]
  },
  {
   "cell_type": "markdown",
   "metadata": {},
   "source": [
    "In this section I present how to run the filtering. I present the code and I use it on some sample companies whose data is in the <code>Inptut</code> folder. This data is the one that is directly downloaded from the LobbyFacts website."
   ]
  },
  {
   "cell_type": "code",
   "execution_count": 6,
   "metadata": {},
   "outputs": [],
   "source": [
    "def run_analysis(company: str, keywords: list) -> pd.DataFrame:\n",
    "    \"\"\"Runs the analysis on the company's meetings.\n",
    "\n",
    "    This function loads the company's meetings from the \"Input\" folder and then analyze each meeting's description by\n",
    "    determining whehter any of the specified keywords are present in the description. It saves the results in the \"Output\" folder and\n",
    "    it returns them as well: the output is a pd.DataFrame that contains the meetings' dates, their description, and for each\n",
    "    of these meetings also presents a boolean that says whether the meeting is relevant or not for climate change (that is, there was\n",
    "    at least one of the keywords present in the description or not) and the keywords that were found in the description or an empty \n",
    "    list if none were found.\n",
    "\n",
    "    Parameters\n",
    "    ----------\n",
    "    company : str\n",
    "        the name of the company to be analyzed. The file containing its data to analyze is called \"company_meetings.csv\".\n",
    "        The output file will be called \"company_meetings_filtered.xlsx\"\n",
    "    keywords: list\n",
    "        The climate change-related keywords\n",
    "\n",
    "    Returns\n",
    "    ------\n",
    "    pd.DataFrame\n",
    "        It contains the meetings' date, description, whether is relevant or not, and the keywords found or an empty list if\n",
    "        none were found.\n",
    "\n",
    "    \"\"\"\n",
    "    \n",
    "    # load the company's meetings\n",
    "    meetings = pd.read_csv(\"Input/\" + company + \"_meetings.csv\")\n",
    "\n",
    "    # keep only the data and description info\n",
    "    meetings = meetings[['Date','Subject']].copy() \n",
    "\n",
    "    # run analysis\n",
    "\n",
    "    # columns that will contain the results of the analysis\n",
    "    meetings['Relevant'] = \"\"\n",
    "    meetings['Keywords found'] = \"\"\n",
    "\n",
    "    # for each meeting\n",
    "    for i in meetings.index:\n",
    "        # run the analysis on the description of the meetings\n",
    "        are_keywords_present, keywords_present = get_keywords_present(meetings.iloc[i][\"Subject\"], keywords)\n",
    "\n",
    "        # save the results\n",
    "        meetings.at[i, 'Relevant'] = are_keywords_present\n",
    "        meetings.at[i, 'Keywords found'] = keywords_present\n",
    "\n",
    "    # compute the percentage of relevant meetings over the total meetings\n",
    "    print(\"% of relevant meetings: \" + str(meetings.loc[meetings[\"Relevant\"] == True].shape[0]/meetings.shape[0]))\n",
    "\n",
    "    # save the results\n",
    "    meetings.to_excel(\"Output/\" + company + \"_meetings_filtered.xlsx\")\n",
    "\n",
    "    # return the results\n",
    "    return meetings"
   ]
  },
  {
   "cell_type": "code",
   "execution_count": 7,
   "metadata": {},
   "outputs": [
    {
     "name": "stdout",
     "output_type": "stream",
     "text": [
      "% of relevant meetings: 0.11956521739130435\n"
     ]
    }
   ],
   "source": [
    "# example of running the analysis on a company\n",
    "\n",
    "#company = \"Amazon\"\n",
    "#company = \"Uniper\"\n",
    "company = \"Volkswagen\"\n",
    "\n",
    "meetings = run_analysis(company, keywords)"
   ]
  },
  {
   "cell_type": "code",
   "execution_count": 10,
   "metadata": {},
   "outputs": [
    {
     "data": {
      "text/html": [
       "<div>\n",
       "<style scoped>\n",
       "    .dataframe tbody tr th:only-of-type {\n",
       "        vertical-align: middle;\n",
       "    }\n",
       "\n",
       "    .dataframe tbody tr th {\n",
       "        vertical-align: top;\n",
       "    }\n",
       "\n",
       "    .dataframe thead th {\n",
       "        text-align: right;\n",
       "    }\n",
       "</style>\n",
       "<table border=\"1\" class=\"dataframe\">\n",
       "  <thead>\n",
       "    <tr style=\"text-align: right;\">\n",
       "      <th></th>\n",
       "      <th>Date</th>\n",
       "      <th>Subject</th>\n",
       "      <th>Relevant</th>\n",
       "      <th>Keywords found</th>\n",
       "    </tr>\n",
       "  </thead>\n",
       "  <tbody>\n",
       "    <tr>\n",
       "      <th>0</th>\n",
       "      <td>2015-04-09</td>\n",
       "      <td>Decabornisation of Road Transport</td>\n",
       "      <td>False</td>\n",
       "      <td>[]</td>\n",
       "    </tr>\n",
       "    <tr>\n",
       "      <th>1</th>\n",
       "      <td>2015-04-21</td>\n",
       "      <td>Decarbonization</td>\n",
       "      <td>True</td>\n",
       "      <td>[decarbonization]</td>\n",
       "    </tr>\n",
       "    <tr>\n",
       "      <th>2</th>\n",
       "      <td>2015-04-21</td>\n",
       "      <td>Energy Union and Transport</td>\n",
       "      <td>False</td>\n",
       "      <td>[]</td>\n",
       "    </tr>\n",
       "    <tr>\n",
       "      <th>3</th>\n",
       "      <td>2015-04-27</td>\n",
       "      <td>standards, data, transport</td>\n",
       "      <td>False</td>\n",
       "      <td>[]</td>\n",
       "    </tr>\n",
       "    <tr>\n",
       "      <th>4</th>\n",
       "      <td>2015-04-30</td>\n",
       "      <td>Visit to Audi Brussels in frames of European S...</td>\n",
       "      <td>False</td>\n",
       "      <td>[]</td>\n",
       "    </tr>\n",
       "    <tr>\n",
       "      <th>5</th>\n",
       "      <td>2015-05-11</td>\n",
       "      <td>DSM</td>\n",
       "      <td>False</td>\n",
       "      <td>[]</td>\n",
       "    </tr>\n",
       "    <tr>\n",
       "      <th>6</th>\n",
       "      <td>2015-05-27</td>\n",
       "      <td>sustainable development</td>\n",
       "      <td>False</td>\n",
       "      <td>[]</td>\n",
       "    </tr>\n",
       "    <tr>\n",
       "      <th>7</th>\n",
       "      <td>2015-06-09</td>\n",
       "      <td>Automatiertes Fahren + Industrie 4.0</td>\n",
       "      <td>False</td>\n",
       "      <td>[]</td>\n",
       "    </tr>\n",
       "    <tr>\n",
       "      <th>8</th>\n",
       "      <td>2015-07-02</td>\n",
       "      <td>DSM, digitalisation in the car sector</td>\n",
       "      <td>False</td>\n",
       "      <td>[]</td>\n",
       "    </tr>\n",
       "    <tr>\n",
       "      <th>9</th>\n",
       "      <td>2015-09-09</td>\n",
       "      <td>Transport policy</td>\n",
       "      <td>False</td>\n",
       "      <td>[]</td>\n",
       "    </tr>\n",
       "  </tbody>\n",
       "</table>\n",
       "</div>"
      ],
      "text/plain": [
       "         Date                                            Subject Relevant  \\\n",
       "0  2015-04-09                  Decabornisation of Road Transport    False   \n",
       "1  2015-04-21                                    Decarbonization     True   \n",
       "2  2015-04-21                         Energy Union and Transport    False   \n",
       "3  2015-04-27                         standards, data, transport    False   \n",
       "4  2015-04-30  Visit to Audi Brussels in frames of European S...    False   \n",
       "5  2015-05-11                                                DSM    False   \n",
       "6  2015-05-27                            sustainable development    False   \n",
       "7  2015-06-09               Automatiertes Fahren + Industrie 4.0    False   \n",
       "8  2015-07-02              DSM, digitalisation in the car sector    False   \n",
       "9  2015-09-09                                   Transport policy    False   \n",
       "\n",
       "      Keywords found  \n",
       "0                 []  \n",
       "1  [decarbonization]  \n",
       "2                 []  \n",
       "3                 []  \n",
       "4                 []  \n",
       "5                 []  \n",
       "6                 []  \n",
       "7                 []  \n",
       "8                 []  \n",
       "9                 []  "
      ]
     },
     "execution_count": 10,
     "metadata": {},
     "output_type": "execute_result"
    }
   ],
   "source": [
    "meetings.head(10)"
   ]
  },
  {
   "cell_type": "code",
   "execution_count": null,
   "metadata": {},
   "outputs": [],
   "source": []
  }
 ],
 "metadata": {
  "kernelspec": {
   "display_name": "greenwashing",
   "language": "python",
   "name": "python3"
  },
  "language_info": {
   "codemirror_mode": {
    "name": "ipython",
    "version": 3
   },
   "file_extension": ".py",
   "mimetype": "text/x-python",
   "name": "python",
   "nbconvert_exporter": "python",
   "pygments_lexer": "ipython3",
   "version": "3.6.13"
  }
 },
 "nbformat": 4,
 "nbformat_minor": 2
}
