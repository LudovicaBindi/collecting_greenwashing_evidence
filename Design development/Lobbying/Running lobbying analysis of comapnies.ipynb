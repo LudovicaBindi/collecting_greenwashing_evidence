{
 "cells": [
  {
   "cell_type": "code",
   "execution_count": 1,
   "metadata": {},
   "outputs": [],
   "source": [
    "import pandas as pd\n",
    "import re"
   ]
  },
  {
   "cell_type": "markdown",
   "metadata": {},
   "source": [
    "## 1. Algorithm"
   ]
  },
  {
   "cell_type": "code",
   "execution_count": 2,
   "metadata": {},
   "outputs": [],
   "source": [
    "# solution\n",
    "def word_find_exact_match(line,words):\n",
    "\n",
    "    found = []\n",
    "    \n",
    "    for to_be_searched in words:\n",
    "        if re.search(r'\\b' + to_be_searched + r'\\b', line):\n",
    "            found.append(to_be_searched)\n",
    "\n",
    "    return found"
   ]
  },
  {
   "cell_type": "code",
   "execution_count": 3,
   "metadata": {},
   "outputs": [],
   "source": [
    "# algorithm that gets all the keywords present in the text (and returns it)\n",
    "def get_keywords_present(interest_string: str, keywords: list) -> tuple([bool, list]):\n",
    "\n",
    "    # get the keywords\n",
    "    keywords_present = word_find_exact_match(interest_string.lower(), keywords)\n",
    "\n",
    "    # return a boolean to say if there is a match or not\n",
    "    are_keywords_present = not len(keywords_present) == 0\n",
    "    \n",
    "    return are_keywords_present, keywords_present"
   ]
  },
  {
   "cell_type": "code",
   "execution_count": 4,
   "metadata": {},
   "outputs": [
    {
     "data": {
      "text/html": [
       "<div>\n",
       "<style scoped>\n",
       "    .dataframe tbody tr th:only-of-type {\n",
       "        vertical-align: middle;\n",
       "    }\n",
       "\n",
       "    .dataframe tbody tr th {\n",
       "        vertical-align: top;\n",
       "    }\n",
       "\n",
       "    .dataframe thead th {\n",
       "        text-align: right;\n",
       "    }\n",
       "</style>\n",
       "<table border=\"1\" class=\"dataframe\">\n",
       "  <thead>\n",
       "    <tr style=\"text-align: right;\">\n",
       "      <th></th>\n",
       "      <th>Original keywords</th>\n",
       "      <th>synonyms/related</th>\n",
       "    </tr>\n",
       "  </thead>\n",
       "  <tbody>\n",
       "    <tr>\n",
       "      <th>0</th>\n",
       "      <td>climate change</td>\n",
       "      <td></td>\n",
       "    </tr>\n",
       "    <tr>\n",
       "      <th>1</th>\n",
       "      <td>global warming</td>\n",
       "      <td></td>\n",
       "    </tr>\n",
       "  </tbody>\n",
       "</table>\n",
       "</div>"
      ],
      "text/plain": [
       "  Original keywords synonyms/related\n",
       "0    climate change                 \n",
       "1    global warming                 "
      ]
     },
     "execution_count": 4,
     "metadata": {},
     "output_type": "execute_result"
    }
   ],
   "source": [
    "keywords_db = pd.read_excel(\"lobbying_climate_keywords.xlsx\", sheet_name=\"final list\", engine=\"openpyxl\")\n",
    "keywords_db = keywords_db[['Original keywords', \"synonyms/related\"]]\n",
    "keywords_db = keywords_db.fillna(\"\")\n",
    "keywords_db.head(2)"
   ]
  },
  {
   "cell_type": "code",
   "execution_count": 5,
   "metadata": {},
   "outputs": [
    {
     "data": {
      "text/plain": [
       "['climate change',\n",
       " 'global warming',\n",
       " 'greenhouse',\n",
       " 'ghg',\n",
       " 'ghgs',\n",
       " 'greenhouse gases',\n",
       " 'keystone',\n",
       " 'renewable energy',\n",
       " 'renewables',\n",
       " 'renewable energies']"
      ]
     },
     "execution_count": 5,
     "metadata": {},
     "output_type": "execute_result"
    }
   ],
   "source": [
    "# create a list that will contain all the keywords on python\n",
    "keywords = []\n",
    "\n",
    "for i in keywords_db.index:\n",
    "    # get the keywords on the first column\n",
    "    keywords.append(keywords_db.iloc[i]['Original keywords'])\n",
    "\n",
    "    if not keywords_db.iloc[i]['synonyms/related'] == \"\":\n",
    "        keywords.extend([x.strip() for x in keywords_db.iloc[i]['synonyms/related'].split(',')])\n",
    "\n",
    "# get all the keywords to be lower\n",
    "for i in range(len(keywords)):\n",
    "    keywords[i] = keywords[i].lower()\n",
    "\n",
    "keywords[0:10]"
   ]
  },
  {
   "cell_type": "markdown",
   "metadata": {},
   "source": [
    "## 2. Run analysis on meetings"
   ]
  },
  {
   "cell_type": "code",
   "execution_count": 18,
   "metadata": {},
   "outputs": [],
   "source": [
    "#company = \"ExxonMobil\"\n",
    "#company = \"Shell\"\n",
    "#company = \"Volkswagen\"\n",
    "#company = \"Amazon\"\n",
    "company = \"Uniper\""
   ]
  },
  {
   "cell_type": "code",
   "execution_count": 19,
   "metadata": {},
   "outputs": [],
   "source": [
    "def run_analysis(company: str, keywords: list) -> pd.DataFrame:\n",
    "    # load data\n",
    "    meetings = pd.read_csv(\"Fossil fuel case/\" + company + \"_meetings.csv\")\n",
    "    meetings = meetings[['Date','Subject']].copy()\n",
    "\n",
    "    # run analysis\n",
    "    meetings['Relevant'] = \"\"\n",
    "    meetings['Keywords found'] = \"\"\n",
    "\n",
    "    for i in meetings.index:\n",
    "    # filter the interests\n",
    "        are_keywords_present, keywords_present = get_keywords_present(meetings.iloc[i][\"Subject\"], keywords)\n",
    "        meetings.at[i, 'Relevant'] = are_keywords_present\n",
    "        meetings.at[i, 'Keywords found'] = keywords_present\n",
    "\n",
    "    print(\"% of relevant meetings: \" + str(meetings.loc[meetings[\"Relevant\"] == True].shape[0]/meetings.shape[0]))\n",
    "\n",
    "    meetings.to_excel(\"Fossil fuel case/final filtering/\" + company + \"_meetings_filtered.xlsx\")\n",
    "\n",
    "    return meetings"
   ]
  },
  {
   "cell_type": "code",
   "execution_count": 20,
   "metadata": {},
   "outputs": [
    {
     "name": "stdout",
     "output_type": "stream",
     "text": [
      "% of relevant meetings: 0.1\n"
     ]
    }
   ],
   "source": [
    "meetings = run_analysis(company, keywords)"
   ]
  },
  {
   "cell_type": "code",
   "execution_count": 21,
   "metadata": {},
   "outputs": [
    {
     "data": {
      "text/html": [
       "<div>\n",
       "<style scoped>\n",
       "    .dataframe tbody tr th:only-of-type {\n",
       "        vertical-align: middle;\n",
       "    }\n",
       "\n",
       "    .dataframe tbody tr th {\n",
       "        vertical-align: top;\n",
       "    }\n",
       "\n",
       "    .dataframe thead th {\n",
       "        text-align: right;\n",
       "    }\n",
       "</style>\n",
       "<table border=\"1\" class=\"dataframe\">\n",
       "  <thead>\n",
       "    <tr style=\"text-align: right;\">\n",
       "      <th></th>\n",
       "      <th>Date</th>\n",
       "      <th>Subject</th>\n",
       "      <th>Relevant</th>\n",
       "      <th>Keywords found</th>\n",
       "    </tr>\n",
       "  </thead>\n",
       "  <tbody>\n",
       "    <tr>\n",
       "      <th>0</th>\n",
       "      <td>2016-11-28</td>\n",
       "      <td>digital agenda and energy union</td>\n",
       "      <td>False</td>\n",
       "      <td>[]</td>\n",
       "    </tr>\n",
       "    <tr>\n",
       "      <th>1</th>\n",
       "      <td>2017-03-23</td>\n",
       "      <td>CAN GAS SPUR THE ENERGY TRANSITION IN CENTRAL ...</td>\n",
       "      <td>False</td>\n",
       "      <td>[]</td>\n",
       "    </tr>\n",
       "    <tr>\n",
       "      <th>2</th>\n",
       "      <td>2021-10-21</td>\n",
       "      <td>Europe´s hydrogen economy</td>\n",
       "      <td>False</td>\n",
       "      <td>[]</td>\n",
       "    </tr>\n",
       "    <tr>\n",
       "      <th>3</th>\n",
       "      <td>2022-10-21</td>\n",
       "      <td>Exchange on the new Commission proposal measur...</td>\n",
       "      <td>False</td>\n",
       "      <td>[]</td>\n",
       "    </tr>\n",
       "    <tr>\n",
       "      <th>4</th>\n",
       "      <td>2022-10-21</td>\n",
       "      <td>Commission proposal on measures on energy pric...</td>\n",
       "      <td>False</td>\n",
       "      <td>[]</td>\n",
       "    </tr>\n",
       "    <tr>\n",
       "      <th>5</th>\n",
       "      <td>2022-10-26</td>\n",
       "      <td>Joint purchasing options.</td>\n",
       "      <td>False</td>\n",
       "      <td>[]</td>\n",
       "    </tr>\n",
       "    <tr>\n",
       "      <th>6</th>\n",
       "      <td>2023-01-19</td>\n",
       "      <td>European large-scale projects on both LNG and ...</td>\n",
       "      <td>False</td>\n",
       "      <td>[]</td>\n",
       "    </tr>\n",
       "    <tr>\n",
       "      <th>7</th>\n",
       "      <td>2023-01-19</td>\n",
       "      <td>European large-scale projects on both LNG and ...</td>\n",
       "      <td>False</td>\n",
       "      <td>[]</td>\n",
       "    </tr>\n",
       "    <tr>\n",
       "      <th>8</th>\n",
       "      <td>2023-05-04</td>\n",
       "      <td>Importance of hydropower in ensuring electrici...</td>\n",
       "      <td>True</td>\n",
       "      <td>[renewable energy]</td>\n",
       "    </tr>\n",
       "    <tr>\n",
       "      <th>9</th>\n",
       "      <td>2023-05-04</td>\n",
       "      <td>Presentation of new business group</td>\n",
       "      <td>False</td>\n",
       "      <td>[]</td>\n",
       "    </tr>\n",
       "  </tbody>\n",
       "</table>\n",
       "</div>"
      ],
      "text/plain": [
       "         Date                                            Subject Relevant  \\\n",
       "0  2016-11-28                    digital agenda and energy union    False   \n",
       "1  2017-03-23  CAN GAS SPUR THE ENERGY TRANSITION IN CENTRAL ...    False   \n",
       "2  2021-10-21                          Europe´s hydrogen economy    False   \n",
       "3  2022-10-21  Exchange on the new Commission proposal measur...    False   \n",
       "4  2022-10-21  Commission proposal on measures on energy pric...    False   \n",
       "5  2022-10-26                          Joint purchasing options.    False   \n",
       "6  2023-01-19  European large-scale projects on both LNG and ...    False   \n",
       "7  2023-01-19  European large-scale projects on both LNG and ...    False   \n",
       "8  2023-05-04  Importance of hydropower in ensuring electrici...     True   \n",
       "9  2023-05-04                 Presentation of new business group    False   \n",
       "\n",
       "       Keywords found  \n",
       "0                  []  \n",
       "1                  []  \n",
       "2                  []  \n",
       "3                  []  \n",
       "4                  []  \n",
       "5                  []  \n",
       "6                  []  \n",
       "7                  []  \n",
       "8  [renewable energy]  \n",
       "9                  []  "
      ]
     },
     "execution_count": 21,
     "metadata": {},
     "output_type": "execute_result"
    }
   ],
   "source": [
    "meetings.head(10)"
   ]
  },
  {
   "cell_type": "code",
   "execution_count": null,
   "metadata": {},
   "outputs": [],
   "source": []
  }
 ],
 "metadata": {
  "kernelspec": {
   "display_name": "greenwashing",
   "language": "python",
   "name": "python3"
  },
  "language_info": {
   "codemirror_mode": {
    "name": "ipython",
    "version": 3
   },
   "file_extension": ".py",
   "mimetype": "text/x-python",
   "name": "python",
   "nbconvert_exporter": "python",
   "pygments_lexer": "ipython3",
   "version": "3.6.13"
  }
 },
 "nbformat": 4,
 "nbformat_minor": 2
}
